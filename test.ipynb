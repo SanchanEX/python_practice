{
 "cells": [
  {
   "cell_type": "code",
   "execution_count": 10,
   "metadata": {},
   "outputs": [
    {
     "ename": "TypeError",
     "evalue": "'tuple' object does not support item assignment",
     "output_type": "error",
     "traceback": [
      "\u001b[0;31m---------------------------------------------------------------------------\u001b[0m",
      "\u001b[0;31mTypeError\u001b[0m                                 Traceback (most recent call last)",
      "Cell \u001b[0;32mIn[10], line 7\u001b[0m\n\u001b[1;32m      5\u001b[0m     \u001b[39mprint\u001b[39m(\u001b[39mlen\u001b[39m(x))\n\u001b[1;32m      6\u001b[0m \u001b[39melse\u001b[39;00m:\n\u001b[0;32m----> 7\u001b[0m     x[\u001b[39m0\u001b[39;49m] \u001b[39m=\u001b[39m \u001b[39m1\u001b[39m        \u001b[39m# TypeError出力\u001b[39;00m\n\u001b[1;32m      8\u001b[0m     \u001b[39mprint\u001b[39m(x[\u001b[39m0\u001b[39m])\n",
      "\u001b[0;31mTypeError\u001b[0m: 'tuple' object does not support item assignment"
     ]
    }
   ],
   "source": [
    "x = tuple(range(10))    # 10個のタプル\n",
    "n = None                # Noneオブジェクト\n",
    "\n",
    "if n:                   # NoneオブジェクトはFlaseとみなされる\n",
    "    print(len(x))\n",
    "else:\n",
    "    x[0] = 1        # TypeError出力\n",
    "    print(x[0])"
   ]
  },
  {
   "cell_type": "code",
   "execution_count": null,
   "metadata": {},
   "outputs": [
    {
     "name": "stdout",
     "output_type": "stream",
     "text": [
      "[1, 2, 3, 4, 5, 6, 7, 8, 9, 10] ['1', '10', '2', '3', '4', '5', '6', '7', '8', '9'] [1, 10, 2, 3, 4, 5, 6, 7, 8, 9]\n",
      "False\n",
      "False\n"
     ]
    }
   ],
   "source": [
    "x = list(range(1,11))   # 1~10のリスト\n",
    "y = [str(i) for i in range(1,11)]   # '1'~'10'のリスト\n",
    "\n",
    "x.sort()    # 1~10の昇順でソート\n",
    "y.sort()    # 1, 10, 2, 3...でソート\n",
    "\n",
    "z = [int(i) for i in y] # yをint型に変換する1, 10, 2, 3...\n",
    "\n",
    "print(x, y, z)\n",
    "print(x == z)\n",
    "print(y == z)\n",
    "\n",
    "## 文字列のソートと整数型のソートでは昇順の成り方が異なる"
   ]
  },
  {
   "cell_type": "code",
   "execution_count": 14,
   "metadata": {},
   "outputs": [
    {
     "name": "stdout",
     "output_type": "stream",
     "text": [
      "None\n",
      "<class 'NoneType'>\n"
     ]
    }
   ],
   "source": [
    "x = list(range(10))\n",
    "y = x.sort()\n",
    "\n",
    "print(type(y))  # sortオブジェクトはNoneとなる"
   ]
  },
  {
   "cell_type": "code",
   "execution_count": 18,
   "metadata": {},
   "outputs": [
    {
     "ename": "TypeError",
     "evalue": "descriptor '__init__' requires a 'super' object but received a 'int'",
     "output_type": "error",
     "traceback": [
      "\u001b[0;31m---------------------------------------------------------------------------\u001b[0m",
      "\u001b[0;31mTypeError\u001b[0m                                 Traceback (most recent call last)",
      "Cell \u001b[0;32mIn[18], line 11\u001b[0m\n\u001b[1;32m      8\u001b[0m     \u001b[39mdef\u001b[39;00m \u001b[39m__init__\u001b[39m(\u001b[39mself\u001b[39m, a, b\u001b[39m=\u001b[39m\u001b[39m2\u001b[39m):\n\u001b[1;32m      9\u001b[0m         \u001b[39msuper\u001b[39m\u001b[39m.\u001b[39m\u001b[39m__init__\u001b[39m(a, b)\n\u001b[0;32m---> 11\u001b[0m q \u001b[39m=\u001b[39m A_d(\u001b[39m1\u001b[39;49m, \u001b[39m5\u001b[39;49m)\n\u001b[1;32m     12\u001b[0m \u001b[39mprint\u001b[39m(q\u001b[39m.\u001b[39mb)\n",
      "Cell \u001b[0;32mIn[18], line 9\u001b[0m, in \u001b[0;36mA_d.__init__\u001b[0;34m(self, a, b)\u001b[0m\n\u001b[1;32m      8\u001b[0m \u001b[39mdef\u001b[39;00m \u001b[39m__init__\u001b[39m(\u001b[39mself\u001b[39m, a, b\u001b[39m=\u001b[39m\u001b[39m2\u001b[39m):\n\u001b[0;32m----> 9\u001b[0m     \u001b[39msuper\u001b[39;49m\u001b[39m.\u001b[39;49m\u001b[39m__init__\u001b[39;49m(a, b)\n",
      "\u001b[0;31mTypeError\u001b[0m: descriptor '__init__' requires a 'super' object but received a 'int'"
     ]
    }
   ],
   "source": [
    "class A:\n",
    "    def __init__(self, a, b, c=3):\n",
    "        self.a = a\n",
    "        self.b = b\n",
    "        self.c = c\n",
    "\n",
    "class A_d(A):\n",
    "    def __init__(self, a, b=2):\n",
    "        super.__init__(a, b)\n",
    "\n",
    "q = A_d(1, 5)\n",
    "print(q.b)"
   ]
  },
  {
   "cell_type": "code",
   "execution_count": 1,
   "metadata": {},
   "outputs": [
    {
     "name": "stdout",
     "output_type": "stream",
     "text": [
      "[0, 1, 0, 1, 0, 1, 0, 1, 0, 1]\n",
      "[0, 1, 0, 1, 0, 1, 0, 1, 0, 1]\n",
      "[0, 0, 0, 0, 0, 1, 1, 1, 1, 1]\n",
      "[0, 1, 0, 1, 0, 1, 0, 1, 0, 1]\n"
     ]
    }
   ],
   "source": [
    "a = [i%2 for i in range(10)]\n",
    "b = [0 if i%2 == 0 else 1 for i in range(10)]\n",
    "c = [i for i in range(2) for _ in range(5)]\n",
    "d = list(range(2)) * 5\n",
    "\n",
    "print(a)\n",
    "print(b)\n",
    "print(c)\n",
    "print(d)"
   ]
  },
  {
   "cell_type": "code",
   "execution_count": 9,
   "metadata": {},
   "outputs": [
    {
     "name": "stdout",
     "output_type": "stream",
     "text": [
      "2 ['家事用', '娯楽用', '工事用']\n"
     ]
    }
   ],
   "source": [
    "import copy\n",
    "\n",
    "class Robot:\n",
    "    latest_version = 0\n",
    "\n",
    "    def __init__(self, type_):\n",
    "        self._type = type_\n",
    "        Robot.latest_version += 1\n",
    "        self.version = Robot.latest_version\n",
    "    \n",
    "    def version_up(self):\n",
    "        Robot.latest_version += 1\n",
    "        self.version = Robot.latest_version\n",
    "\n",
    "robots = [Robot([\"家事用\"])]\n",
    "robots.append(robots[0])\n",
    "# print([robot for robot in robots])\n",
    "robots.append(copy.copy(robots[0]))\n",
    "# print(robots)\n",
    "robots.append(copy.deepcopy(robots[0]))\n",
    "# print(robots)\n",
    "\n",
    "robots[0].version_up()\n",
    "robots[0]._type.append(\"娯楽用\")\n",
    "\n",
    "robots.append(robots[2])\n",
    "# print(robots)\n",
    "robots.append(copy.copy(robots[2]))\n",
    "# print(robots)\n",
    "robots.append(copy.deepcopy(robots[2]))\n",
    "# print(robots)\n",
    "\n",
    "robots[2].version_up()\n",
    "robots[2]._type.append(\"工事用\")\n",
    "\n",
    "# for rbt in robots:\n",
    "#     print(rbt.version, rbt._type)\n",
    "print(robots[0].version, robots[0]._type)"
   ]
  },
  {
   "cell_type": "code",
   "execution_count": 13,
   "metadata": {},
   "outputs": [
    {
     "name": "stdout",
     "output_type": "stream",
     "text": [
      "o\n",
      "e\n",
      "h\n",
      "l\n"
     ]
    }
   ],
   "source": [
    "a = set(\"hello\")\n",
    "for i in a:\n",
    "    print(i)"
   ]
  },
  {
   "cell_type": "code",
   "execution_count": 16,
   "metadata": {},
   "outputs": [
    {
     "name": "stdout",
     "output_type": "stream",
     "text": [
      "フシギダネ\n",
      "フシギソウ\n",
      "001 \t フシギバナ\n",
      "002 \t ヒトカゲ\n",
      "003 \t リザード\n",
      "004 \t リザードン\n"
     ]
    }
   ],
   "source": [
    "class Zukan:\n",
    "    def __init__(self):\n",
    "        self.title = [\"フシギダネ\", \"フシギソウ\", \"フシギバナ\", \"ヒトカゲ\", \"リザード\", \"リザードン\"]\n",
    "        self.idx = 0\n",
    "\n",
    "    def __iter__(self):\n",
    "        return self\n",
    "    \n",
    "    def __next__(self):\n",
    "        if self.idx == len(self.title):\n",
    "            raise StopIteration()\n",
    "        title = self.title[self.idx]\n",
    "        self.idx += 1\n",
    "        return title\n",
    "\n",
    "\n",
    "zukan = Zukan()\n",
    "print(next(zukan))\n",
    "print(next(zukan))\n",
    "\n",
    "for i, z in enumerate(zukan, 1):\n",
    "    print(f\"{i:03d} \\t {z}\")"
   ]
  },
  {
   "cell_type": "code",
   "execution_count": 6,
   "metadata": {},
   "outputs": [
    {
     "ename": "TypeError",
     "evalue": "'generator' object is not callable",
     "output_type": "error",
     "traceback": [
      "\u001b[0;31m---------------------------------------------------------------------------\u001b[0m",
      "\u001b[0;31mTypeError\u001b[0m                                 Traceback (most recent call last)",
      "Cell \u001b[0;32mIn[6], line 3\u001b[0m\n\u001b[1;32m      1\u001b[0m gen \u001b[39m=\u001b[39m (i\u001b[39m*\u001b[39mi \u001b[39mfor\u001b[39;00m i \u001b[39min\u001b[39;00m \u001b[39mrange\u001b[39m(\u001b[39m20\u001b[39m) \u001b[39mif\u001b[39;00m i\u001b[39m%\u001b[39m\u001b[39m2\u001b[39m \u001b[39m==\u001b[39m \u001b[39m0\u001b[39m)\n\u001b[0;32m----> 3\u001b[0m \u001b[39mprint\u001b[39m(gen())\n",
      "\u001b[0;31mTypeError\u001b[0m: 'generator' object is not callable"
     ]
    }
   ],
   "source": [
    "gen = (i*i for i in range(20) if i%2 == 0)\n",
    "\n",
    "print(gen())"
   ]
  },
  {
   "cell_type": "code",
   "execution_count": 21,
   "metadata": {},
   "outputs": [
    {
     "name": "stdout",
     "output_type": "stream",
     "text": [
      "title\n"
     ]
    }
   ],
   "source": [
    "class PokeDesc:\n",
    "    def __set_name__(self, owner, attrname):\n",
    "        print(attrname)\n",
    "        self.attrname = attrname\n",
    "    \n",
    "    def __get__(self, obj, objtype=None):\n",
    "        return obj.__dict__[self.attrname]\n",
    "    \n",
    "    def __set__(self, obj, value):\n",
    "        obj.__dict__[self.attrname] = value\n",
    "\n",
    "class Monster:\n",
    "    title = PokeDesc()\n",
    "\n",
    "    def __init__(self, title):\n",
    "        self.title = title\n",
    "\n",
    "m = Monster(\"ピカチュウ\")\n"
   ]
  },
  {
   "cell_type": "code",
   "execution_count": 22,
   "metadata": {},
   "outputs": [
    {
     "name": "stdout",
     "output_type": "stream",
     "text": [
      "[2]\n"
     ]
    }
   ],
   "source": [
    "a, *b, c, d, e = [1, 2, 3, 4, 5]\n",
    "print(b)"
   ]
  },
  {
   "cell_type": "code",
   "execution_count": 23,
   "metadata": {},
   "outputs": [
    {
     "name": "stdout",
     "output_type": "stream",
     "text": [
      "range(0, 20)\n"
     ]
    }
   ],
   "source": [
    "rng = range(20)\n",
    "print(rng)"
   ]
  },
  {
   "cell_type": "code",
   "execution_count": 29,
   "metadata": {},
   "outputs": [
    {
     "data": {
      "text/plain": [
       "4"
      ]
     },
     "execution_count": 29,
     "metadata": {},
     "output_type": "execute_result"
    }
   ],
   "source": [
    "rng[4]"
   ]
  },
  {
   "cell_type": "code",
   "execution_count": 30,
   "metadata": {},
   "outputs": [
    {
     "data": {
      "text/plain": [
       "0.16000000000000003"
      ]
     },
     "execution_count": 30,
     "metadata": {},
     "output_type": "execute_result"
    }
   ],
   "source": [
    "0.2 * 0.8"
   ]
  },
  {
   "cell_type": "code",
   "execution_count": 31,
   "metadata": {},
   "outputs": [
    {
     "data": {
      "text/plain": [
       "0.85"
      ]
     },
     "execution_count": 31,
     "metadata": {},
     "output_type": "execute_result"
    }
   ],
   "source": [
    "1-0.15"
   ]
  },
  {
   "cell_type": "code",
   "execution_count": 47,
   "metadata": {},
   "outputs": [
    {
     "name": "stdout",
     "output_type": "stream",
     "text": [
      "0.001\n"
     ]
    }
   ],
   "source": [
    "from math import exp as e\n",
    "\n",
    "a = e(5/1)\n",
    "b = e(10/1)\n",
    "c = e(2/1)\n",
    "d = e(3/1)\n",
    "\n",
    "r = a+b+c+d\n",
    "print(round(d/r, 3))\n"
   ]
  },
  {
   "cell_type": "code",
   "execution_count": 49,
   "metadata": {},
   "outputs": [
    {
     "name": "stdout",
     "output_type": "stream",
     "text": [
      "0 4371742928 0\n",
      "1 4371742960 1\n",
      "4371742960\n"
     ]
    }
   ],
   "source": [
    "id_ = 0\n",
    "print(id_, id(id_), hash(id_))\n",
    "\n",
    "id_ = 1\n",
    "print(id_, id(id_), hash(id_))\n",
    "print(id(1))"
   ]
  },
  {
   "cell_type": "code",
   "execution_count": 53,
   "metadata": {},
   "outputs": [
    {
     "ename": "TypeError",
     "evalue": "<lambda>() missing 2 required positional arguments: 'x' and 'y'",
     "output_type": "error",
     "traceback": [
      "\u001b[0;31m---------------------------------------------------------------------------\u001b[0m",
      "\u001b[0;31mTypeError\u001b[0m                                 Traceback (most recent call last)",
      "Cell \u001b[0;32mIn[53], line 2\u001b[0m\n\u001b[1;32m      1\u001b[0m a \u001b[39m=\u001b[39m (\u001b[39mlambda\u001b[39;00m x, y: x\u001b[39m+\u001b[39my)\n\u001b[0;32m----> 2\u001b[0m a()\n",
      "\u001b[0;31mTypeError\u001b[0m: <lambda>() missing 2 required positional arguments: 'x' and 'y'"
     ]
    }
   ],
   "source": [
    "a = (lambda x, y: x+y)\n",
    "a()"
   ]
  },
  {
   "cell_type": "code",
   "execution_count": 55,
   "metadata": {},
   "outputs": [],
   "source": [
    "from collections import defaultdict as d\n",
    "\n",
    "class M:\n",
    "    def __init___(self):\n",
    "        pass\n",
    "    def __call__(self):\n",
    "        pass\n",
    "\n",
    "class P:\n",
    "    pass\n",
    "\n",
    "def func(args):\n",
    "    return\n",
    "\n",
    "def gen():\n",
    "    yield\n",
    "\n",
    "def_dct1 = d(gen)\n",
    "def_dct2 = d(M())\n",
    "def_dct3 = d(P)\n",
    "def_dct4 = d(func)\n"
   ]
  },
  {
   "cell_type": "code",
   "execution_count": 63,
   "metadata": {},
   "outputs": [
    {
     "ename": "TypeError",
     "evalue": "func() missing 1 required positional argument: 'args'",
     "output_type": "error",
     "traceback": [
      "\u001b[0;31m---------------------------------------------------------------------------\u001b[0m",
      "\u001b[0;31mTypeError\u001b[0m                                 Traceback (most recent call last)",
      "Cell \u001b[0;32mIn[63], line 1\u001b[0m\n\u001b[0;32m----> 1\u001b[0m \u001b[39mprint\u001b[39m(def_dct4[\u001b[39m3\u001b[39;49m])\n",
      "\u001b[0;31mTypeError\u001b[0m: func() missing 1 required positional argument: 'args'"
     ]
    }
   ],
   "source": [
    "print(def_dct4[3])"
   ]
  },
  {
   "cell_type": "code",
   "execution_count": 27,
   "metadata": {},
   "outputs": [
    {
     "name": "stdout",
     "output_type": "stream",
     "text": [
      "a []\n",
      "b []\n",
      "c- ['-']\n"
     ]
    }
   ],
   "source": [
    "import re\n",
    "\n",
    "title = [\"a\",\"b\", \"c-\"]\n",
    "\n",
    "pattern = re.compile(\"-\")\n",
    "\n",
    "for i,title in enumerate(title, 1):\n",
    "    print(title, pattern.findall(title))"
   ]
  },
  {
   "cell_type": "code",
   "execution_count": 29,
   "metadata": {},
   "outputs": [
    {
     "ename": "OperationalError",
     "evalue": "table names already exists",
     "output_type": "error",
     "traceback": [
      "\u001b[0;31m---------------------------------------------------------------------------\u001b[0m",
      "\u001b[0;31mOperationalError\u001b[0m                          Traceback (most recent call last)",
      "Cell \u001b[0;32mIn[29], line 6\u001b[0m\n\u001b[1;32m      4\u001b[0m cur \u001b[39m=\u001b[39m con\u001b[39m.\u001b[39mcursor()\n\u001b[1;32m      5\u001b[0m sql \u001b[39m=\u001b[39m \u001b[39m\"\u001b[39m\u001b[39mCREATE TABLE names (title)\u001b[39m\u001b[39m\"\u001b[39m\n\u001b[0;32m----> 6\u001b[0m cur\u001b[39m.\u001b[39;49mexecute(sql)\n\u001b[1;32m      7\u001b[0m sql \u001b[39m=\u001b[39m \u001b[39m\"\u001b[39m\u001b[39mINSERT INTO names VALUES (\u001b[39m\u001b[39m'\u001b[39m\u001b[39mミューツー\u001b[39m\u001b[39m'\u001b[39m\u001b[39m)\u001b[39m\u001b[39m\"\u001b[39m\n\u001b[1;32m      8\u001b[0m cur\u001b[39m.\u001b[39mexecute(sql)\n",
      "\u001b[0;31mOperationalError\u001b[0m: table names already exists"
     ]
    }
   ],
   "source": [
    "import sqlite3\n",
    "\n",
    "con = sqlite3.connect(\"database.db\")\n",
    "cur = con.cursor()\n",
    "sql = \"CREATE TABLE names (title)\"\n",
    "cur.execute(sql)\n",
    "sql = \"INSERT INTO names VALUES ('ミューツー')\"\n",
    "cur.execute(sql)\n",
    "con.close()\n",
    "\n",
    "con = sqlite3.connect(\"database.db\")\n",
    "cur = con.cursor()\n",
    "sql = \"SELECT title FROM names\"\n",
    "cur.execute(sql)"
   ]
  },
  {
   "cell_type": "code",
   "execution_count": 30,
   "metadata": {},
   "outputs": [],
   "source": [
    "for res in cur:\n",
    "    print(res)\n"
   ]
  },
  {
   "cell_type": "code",
   "execution_count": 31,
   "metadata": {},
   "outputs": [
    {
     "name": "stdout",
     "output_type": "stream",
     "text": [
      "<sqlite3.Cursor object at 0x1144e7940>\n"
     ]
    }
   ],
   "source": [
    "print(cur)"
   ]
  },
  {
   "cell_type": "code",
   "execution_count": 32,
   "metadata": {},
   "outputs": [
    {
     "ename": "NameError",
     "evalue": "name 'res' is not defined",
     "output_type": "error",
     "traceback": [
      "\u001b[0;31m---------------------------------------------------------------------------\u001b[0m",
      "\u001b[0;31mNameError\u001b[0m                                 Traceback (most recent call last)",
      "Cell \u001b[0;32mIn[32], line 1\u001b[0m\n\u001b[0;32m----> 1\u001b[0m \u001b[39mprint\u001b[39m(res)\n",
      "\u001b[0;31mNameError\u001b[0m: name 'res' is not defined"
     ]
    }
   ],
   "source": [
    "print(res)"
   ]
  },
  {
   "cell_type": "code",
   "execution_count": 33,
   "metadata": {},
   "outputs": [
    {
     "name": "stdout",
     "output_type": "stream",
     "text": [
      "print_name\n"
     ]
    }
   ],
   "source": [
    "import functools\n",
    "\n",
    "def bossy(func):\n",
    "    @functools.wraps(func)\n",
    "    def _func(t):\n",
    "        pass\n",
    "    return _func\n",
    "\n",
    "@bossy\n",
    "def print_name(t):\n",
    "    pass\n",
    "\n",
    "print(print_name.__name__)"
   ]
  },
  {
   "cell_type": "code",
   "execution_count": 34,
   "metadata": {},
   "outputs": [
    {
     "name": "stdout",
     "output_type": "stream",
     "text": [
      "None\n"
     ]
    }
   ],
   "source": [
    "class Monster:\n",
    "    def __init__(self, title):\n",
    "        self.title = title\n",
    "    \n",
    "    def __eq__(self, other):\n",
    "        return self.title == other.title\n",
    "\n",
    "print(Monster.__dict__[\"__hash__\"])"
   ]
  },
  {
   "cell_type": "code",
   "execution_count": 36,
   "metadata": {},
   "outputs": [
    {
     "name": "stdout",
     "output_type": "stream",
     "text": [
      "呼び出し\n",
      "呼び出し\n",
      "呼び出し\n",
      "呼び出し\n",
      "呼び出し\n",
      "フシギダネ 25\n",
      "ピカチュウ 0\n",
      "呼び出し\n"
     ]
    }
   ],
   "source": [
    "class PokeDesc:\n",
    "    def __set_name__(self, owner, attrname):\n",
    "        self.attrname = attrname\n",
    "    \n",
    "    def __get__(self, obj, objtype=None):\n",
    "        return obj.__dict__[self.attrname]\n",
    "    \n",
    "    def __set__(self, obj, value):\n",
    "        print(\"呼び出し\")\n",
    "        obj.__dict__[self.attrname] = value\n",
    "\n",
    "class Monster:\n",
    "    title = PokeDesc()\n",
    "    level = PokeDesc()\n",
    "\n",
    "    def __init__(self, title):\n",
    "        self.title = title\n",
    "        self.level = 0\n",
    "\n",
    "fushi = Monster(\"フシギダネ\")\n",
    "pika = Monster(\"ピカチュウ\")\n",
    "fushi.level = 25\n",
    "print(fushi.title, fushi.level)\n",
    "print(pika.title, pika.level)\n",
    "pika.level = 50"
   ]
  },
  {
   "cell_type": "code",
   "execution_count": 37,
   "metadata": {},
   "outputs": [
    {
     "name": "stdout",
     "output_type": "stream",
     "text": [
      "<sqlite3.Cursor object at 0x1144cba40>\n"
     ]
    }
   ],
   "source": [
    "import sqlite3\n",
    "\n",
    "con = sqlite3.connect(\"database.db\")\n",
    "cur = con.cursor()\n",
    "sql = \"SELECT * FROM names\"\n",
    "cur.execute(sql)\n",
    "print(cur)\n",
    "con.close()"
   ]
  },
  {
   "cell_type": "code",
   "execution_count": 44,
   "metadata": {},
   "outputs": [
    {
     "name": "stdout",
     "output_type": "stream",
     "text": [
      "[]\n"
     ]
    }
   ],
   "source": [
    "class Stack:\n",
    "    def __init__(self):\n",
    "        self._lst = []\n",
    "    \n",
    "    def push(self, item):\n",
    "        self._lst.append(item)\n",
    "    \n",
    "    def pop(self):\n",
    "        if len(self._lst) == 0:\n",
    "            return None\n",
    "        return self._lst.pop()\n",
    "    \n",
    "s = Stack()\n",
    "s.push(2)\n",
    "s.pop()\n",
    "print(s._lst)"
   ]
  },
  {
   "cell_type": "code",
   "execution_count": 54,
   "metadata": {},
   "outputs": [
    {
     "ename": "OperationalError",
     "evalue": "table names already exists",
     "output_type": "error",
     "traceback": [
      "\u001b[0;31m---------------------------------------------------------------------------\u001b[0m",
      "\u001b[0;31mOperationalError\u001b[0m                          Traceback (most recent call last)",
      "Cell \u001b[0;32mIn[54], line 6\u001b[0m\n\u001b[1;32m      4\u001b[0m cur \u001b[39m=\u001b[39m con\u001b[39m.\u001b[39mcursor()\n\u001b[1;32m      5\u001b[0m sql \u001b[39m=\u001b[39m \u001b[39m\"\u001b[39m\u001b[39mCREATE TABLE names (title)\u001b[39m\u001b[39m\"\u001b[39m\n\u001b[0;32m----> 6\u001b[0m cur\u001b[39m.\u001b[39;49mexecute(sql)\n\u001b[1;32m      7\u001b[0m sql \u001b[39m=\u001b[39m \u001b[39m\"\u001b[39m\u001b[39mINSERT INTO names VALUES (?)\u001b[39m\u001b[39m\"\u001b[39m\n\u001b[1;32m      9\u001b[0m title \u001b[39m=\u001b[39m [(\u001b[39m\"\u001b[39m\u001b[39ma\u001b[39m\u001b[39m\"\u001b[39m, ), (\u001b[39m\"\u001b[39m\u001b[39mB\u001b[39m\u001b[39m\"\u001b[39m, )]\n",
      "\u001b[0;31mOperationalError\u001b[0m: table names already exists"
     ]
    }
   ],
   "source": [
    "import sqlite3\n",
    "\n",
    "con = sqlite3.connect(\"database.db\")\n",
    "cur = con.cursor()\n",
    "sql = \"CREATE TABLE names (title)\"\n",
    "cur.execute(sql)\n",
    "sql = \"INSERT INTO names VALUES (?)\"\n",
    "\n",
    "title = [(\"a\", ), (\"B\", )]\n",
    "\n",
    "cur.execute(sql, title)\n",
    "con.commit()\n",
    "con.close()"
   ]
  },
  {
   "cell_type": "code",
   "execution_count": 65,
   "metadata": {},
   "outputs": [],
   "source": [
    "import time\n",
    "def time_measure(func):\n",
    "    def _func(x, y):\n",
    "        bgn = time.time()\n",
    "        res = func(x, y)\n",
    "        end = time.time()\n",
    "        print(end-bgn)\n",
    "        return res\n",
    "    return _func\n",
    "\n",
    "@time_measure\n",
    "def mu(x, y): return x*y\n",
    "\n",
    "@time_measure\n",
    "def di(x, y): return x/y\n",
    "\n",
    "@time_measure\n",
    "def sq(x): return x**x"
   ]
  },
  {
   "cell_type": "code",
   "execution_count": 71,
   "metadata": {},
   "outputs": [
    {
     "ename": "TypeError",
     "evalue": "time_measure.<locals>._func() missing 1 required positional argument: 'y'",
     "output_type": "error",
     "traceback": [
      "\u001b[0;31m---------------------------------------------------------------------------\u001b[0m",
      "\u001b[0;31mTypeError\u001b[0m                                 Traceback (most recent call last)",
      "Cell \u001b[0;32mIn[71], line 1\u001b[0m\n\u001b[0;32m----> 1\u001b[0m \u001b[39mprint\u001b[39m(sq(\u001b[39m5\u001b[39;49m))\n",
      "\u001b[0;31mTypeError\u001b[0m: time_measure.<locals>._func() missing 1 required positional argument: 'y'"
     ]
    }
   ],
   "source": [
    "print(sq(5))\n"
   ]
  },
  {
   "cell_type": "code",
   "execution_count": null,
   "metadata": {},
   "outputs": [],
   "source": []
  }
 ],
 "metadata": {
  "kernelspec": {
   "display_name": "Python 3",
   "language": "python",
   "name": "python3"
  },
  "language_info": {
   "codemirror_mode": {
    "name": "ipython",
    "version": 3
   },
   "file_extension": ".py",
   "mimetype": "text/x-python",
   "name": "python",
   "nbconvert_exporter": "python",
   "pygments_lexer": "ipython3",
   "version": "3.10.3"
  },
  "orig_nbformat": 4,
  "vscode": {
   "interpreter": {
    "hash": "d68f3040fff4a21b7648c6a95ad5848255264a301574a820ac45cfbc922e28b2"
   }
  }
 },
 "nbformat": 4,
 "nbformat_minor": 2
}
